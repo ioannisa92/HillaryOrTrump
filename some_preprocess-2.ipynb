{
 "cells": [
  {
   "cell_type": "code",
   "execution_count": 32,
   "metadata": {},
   "outputs": [],
   "source": [
    "import tensorflow as tf\n",
    "import pandas as pd\n",
    "import numpy as np\n",
    "from nltk.stem.lancaster import LancasterStemmer\n",
    "from nltk.corpus import stopwords\n",
    "from nltk.tokenize import word_tokenize\n",
    "import re\n",
    "import nltk"
   ]
  },
  {
   "cell_type": "code",
   "execution_count": 33,
   "metadata": {},
   "outputs": [],
   "source": [
    "embedding = pd.read_table('glove.twitter.27B.25d.txt', sep = \" \", header= None)"
   ]
  },
  {
   "cell_type": "code",
   "execution_count": 34,
   "metadata": {},
   "outputs": [],
   "source": [
    "embedding = embedding.dropna()"
   ]
  },
  {
   "cell_type": "code",
   "execution_count": 35,
   "metadata": {},
   "outputs": [
    {
     "data": {
      "text/plain": [
       "1193508"
      ]
     },
     "execution_count": 35,
     "metadata": {},
     "output_type": "execute_result"
    }
   ],
   "source": [
    "len(embedding[0])"
   ]
  },
  {
   "cell_type": "code",
   "execution_count": 36,
   "metadata": {},
   "outputs": [],
   "source": [
    "embedding_matrix = embedding[list(range(1,26))].as_matrix()"
   ]
  },
  {
   "cell_type": "code",
   "execution_count": 176,
   "metadata": {},
   "outputs": [
    {
     "data": {
      "text/html": [
       "<div>\n",
       "<style scoped>\n",
       "    .dataframe tbody tr th:only-of-type {\n",
       "        vertical-align: middle;\n",
       "    }\n",
       "\n",
       "    .dataframe tbody tr th {\n",
       "        vertical-align: top;\n",
       "    }\n",
       "\n",
       "    .dataframe thead th {\n",
       "        text-align: right;\n",
       "    }\n",
       "</style>\n",
       "<table border=\"1\" class=\"dataframe\">\n",
       "  <thead>\n",
       "    <tr style=\"text-align: right;\">\n",
       "      <th></th>\n",
       "      <th>handle</th>\n",
       "      <th>tweet</th>\n",
       "    </tr>\n",
       "  </thead>\n",
       "  <tbody>\n",
       "    <tr>\n",
       "      <th>0</th>\n",
       "      <td>realDonaldTrump</td>\n",
       "      <td>In Tampa, Florida- thank you to all of our out...</td>\n",
       "    </tr>\n",
       "    <tr>\n",
       "      <th>1</th>\n",
       "      <td>realDonaldTrump</td>\n",
       "      <td>Poll: @realDonaldTrump vs. @HillaryClinton amo...</td>\n",
       "    </tr>\n",
       "    <tr>\n",
       "      <th>2</th>\n",
       "      <td>HillaryClinton</td>\n",
       "      <td>Obama on whether Trump could be trusted with U...</td>\n",
       "    </tr>\n",
       "  </tbody>\n",
       "</table>\n",
       "</div>"
      ],
      "text/plain": [
       "            handle                                              tweet\n",
       "0  realDonaldTrump  In Tampa, Florida- thank you to all of our out...\n",
       "1  realDonaldTrump  Poll: @realDonaldTrump vs. @HillaryClinton amo...\n",
       "2   HillaryClinton  Obama on whether Trump could be trusted with U..."
      ]
     },
     "execution_count": 176,
     "metadata": {},
     "output_type": "execute_result"
    }
   ],
   "source": [
    "# editing the input sentences\n",
    "training_set = pd.read_csv('train.csv', encoding=\"ISO-8859-1\")\n",
    "training_set.head(3)"
   ]
  },
  {
   "cell_type": "code",
   "execution_count": 177,
   "metadata": {},
   "outputs": [],
   "source": [
    "training_set['handle']=training_set['handle'].map({'HillaryClinton':1,'realDonaldTrump':0})"
   ]
  },
  {
   "cell_type": "code",
   "execution_count": 178,
   "metadata": {},
   "outputs": [
    {
     "data": {
      "text/html": [
       "<div>\n",
       "<style scoped>\n",
       "    .dataframe tbody tr th:only-of-type {\n",
       "        vertical-align: middle;\n",
       "    }\n",
       "\n",
       "    .dataframe tbody tr th {\n",
       "        vertical-align: top;\n",
       "    }\n",
       "\n",
       "    .dataframe thead th {\n",
       "        text-align: right;\n",
       "    }\n",
       "</style>\n",
       "<table border=\"1\" class=\"dataframe\">\n",
       "  <thead>\n",
       "    <tr style=\"text-align: right;\">\n",
       "      <th></th>\n",
       "      <th>handle</th>\n",
       "      <th>tweet</th>\n",
       "    </tr>\n",
       "  </thead>\n",
       "  <tbody>\n",
       "    <tr>\n",
       "      <th>0</th>\n",
       "      <td>0</td>\n",
       "      <td>In Tampa, Florida- thank you to all of our out...</td>\n",
       "    </tr>\n",
       "    <tr>\n",
       "      <th>1</th>\n",
       "      <td>0</td>\n",
       "      <td>Poll: @realDonaldTrump vs. @HillaryClinton amo...</td>\n",
       "    </tr>\n",
       "    <tr>\n",
       "      <th>2</th>\n",
       "      <td>1</td>\n",
       "      <td>Obama on whether Trump could be trusted with U...</td>\n",
       "    </tr>\n",
       "  </tbody>\n",
       "</table>\n",
       "</div>"
      ],
      "text/plain": [
       "   handle                                              tweet\n",
       "0       0  In Tampa, Florida- thank you to all of our out...\n",
       "1       0  Poll: @realDonaldTrump vs. @HillaryClinton amo...\n",
       "2       1  Obama on whether Trump could be trusted with U..."
      ]
     },
     "execution_count": 178,
     "metadata": {},
     "output_type": "execute_result"
    }
   ],
   "source": [
    "training_set.head(3)"
   ]
  },
  {
   "cell_type": "code",
   "execution_count": 179,
   "metadata": {},
   "outputs": [],
   "source": [
    "# I adapted this from another a site, need to cite it here\n",
    "def remove_by_regex(tweets, regexp):\n",
    "    tweets.loc[:, \"tweet\"].replace(regexp, \"\", inplace=True)\n",
    "    return tweets\n",
    "\n",
    "def remove_special_chars(tweets):  # it unrolls the hashtags to normal words\n",
    "    for remove in map(lambda r: re.compile(re.escape(r)), [\",\", \":\", \"\\\"\", \"=\", \"&\", \";\", \"%\", \"$\",\n",
    "                                                                 \"@\", \"%\", \"^\", \"*\", \"(\", \")\", \"{\", \"}\",\n",
    "                                                                 \"[\", \"]\", \"|\", \"/\", \"\\\\\", \">\", \"<\", \"-\",\n",
    "                                                                 \"!\", \"?\", \".\", \"'\",\n",
    "                                                                 \"--\", \"---\", \"#\", \"\\n\" , \"—@\", \"→\"]):\n",
    "        tweets.loc[:, \"tweet\"].replace(remove, \"\", inplace=True)\n",
    "    return tweets\n",
    "\n",
    "def remove_things(tweets):\n",
    "    remove_by_regex(tweets, re.compile(r\"http.?://[^\\s]+[\\s]?\"))\n",
    "    remove_by_regex(tweets, re.compile(r\"@[^\\s]+[\\s]?\"))\n",
    "    remove_by_regex(tweets, re.compile(r\"\\s?[0-9]+\\.?[0-9]*\"))\n",
    "    remove_special_chars(tweets)\n",
    "    return tweets"
   ]
  },
  {
   "cell_type": "code",
   "execution_count": 180,
   "metadata": {},
   "outputs": [
    {
     "data": {
      "text/html": [
       "<div>\n",
       "<style scoped>\n",
       "    .dataframe tbody tr th:only-of-type {\n",
       "        vertical-align: middle;\n",
       "    }\n",
       "\n",
       "    .dataframe tbody tr th {\n",
       "        vertical-align: top;\n",
       "    }\n",
       "\n",
       "    .dataframe thead th {\n",
       "        text-align: right;\n",
       "    }\n",
       "</style>\n",
       "<table border=\"1\" class=\"dataframe\">\n",
       "  <thead>\n",
       "    <tr style=\"text-align: right;\">\n",
       "      <th></th>\n",
       "      <th>handle</th>\n",
       "      <th>tweet</th>\n",
       "    </tr>\n",
       "  </thead>\n",
       "  <tbody>\n",
       "    <tr>\n",
       "      <th>0</th>\n",
       "      <td>0</td>\n",
       "      <td>In Tampa Florida thank you to all of our outst...</td>\n",
       "    </tr>\n",
       "    <tr>\n",
       "      <th>1</th>\n",
       "      <td>0</td>\n",
       "      <td>Poll vs among white Evangelicals</td>\n",
       "    </tr>\n",
       "    <tr>\n",
       "      <th>2</th>\n",
       "      <td>1</td>\n",
       "      <td>Obama on whether Trump could be trusted with U...</td>\n",
       "    </tr>\n",
       "  </tbody>\n",
       "</table>\n",
       "</div>"
      ],
      "text/plain": [
       "   handle                                              tweet\n",
       "0       0  In Tampa Florida thank you to all of our outst...\n",
       "1       0                  Poll vs among white Evangelicals \n",
       "2       1  Obama on whether Trump could be trusted with U..."
      ]
     },
     "execution_count": 180,
     "metadata": {},
     "output_type": "execute_result"
    }
   ],
   "source": [
    "remove_things(training_set).head(3)"
   ]
  },
  {
   "cell_type": "code",
   "execution_count": 181,
   "metadata": {},
   "outputs": [],
   "source": [
    "#tokenize\n",
    "from nltk.tokenize import RegexpTokenizer\n",
    "tokenizer = RegexpTokenizer(r'\\w+')\n",
    "tokenizer.tokenize\n",
    "def tok(tweets):\n",
    "    p = []\n",
    "    for i in tweets['tweet']:\n",
    "        tokenizer = RegexpTokenizer(r'\\w+')\n",
    "        p.append(tokenizer.tokenize(i))\n",
    "    tweets['tok_tweet'] = p\n",
    "    return tweets"
   ]
  },
  {
   "cell_type": "code",
   "execution_count": 182,
   "metadata": {},
   "outputs": [
    {
     "data": {
      "text/html": [
       "<div>\n",
       "<style scoped>\n",
       "    .dataframe tbody tr th:only-of-type {\n",
       "        vertical-align: middle;\n",
       "    }\n",
       "\n",
       "    .dataframe tbody tr th {\n",
       "        vertical-align: top;\n",
       "    }\n",
       "\n",
       "    .dataframe thead th {\n",
       "        text-align: right;\n",
       "    }\n",
       "</style>\n",
       "<table border=\"1\" class=\"dataframe\">\n",
       "  <thead>\n",
       "    <tr style=\"text-align: right;\">\n",
       "      <th></th>\n",
       "      <th>handle</th>\n",
       "      <th>tweet</th>\n",
       "      <th>tok_tweet</th>\n",
       "    </tr>\n",
       "  </thead>\n",
       "  <tbody>\n",
       "    <tr>\n",
       "      <th>0</th>\n",
       "      <td>0</td>\n",
       "      <td>In Tampa Florida thank you to all of our outst...</td>\n",
       "      <td>[In, Tampa, Florida, thank, you, to, all, of, ...</td>\n",
       "    </tr>\n",
       "    <tr>\n",
       "      <th>1</th>\n",
       "      <td>0</td>\n",
       "      <td>Poll vs among white Evangelicals</td>\n",
       "      <td>[Poll, vs, among, white, Evangelicals]</td>\n",
       "    </tr>\n",
       "    <tr>\n",
       "      <th>2</th>\n",
       "      <td>1</td>\n",
       "      <td>Obama on whether Trump could be trusted with U...</td>\n",
       "      <td>[Obama, on, whether, Trump, could, be, trusted...</td>\n",
       "    </tr>\n",
       "  </tbody>\n",
       "</table>\n",
       "</div>"
      ],
      "text/plain": [
       "   handle                                              tweet  \\\n",
       "0       0  In Tampa Florida thank you to all of our outst...   \n",
       "1       0                  Poll vs among white Evangelicals    \n",
       "2       1  Obama on whether Trump could be trusted with U...   \n",
       "\n",
       "                                           tok_tweet  \n",
       "0  [In, Tampa, Florida, thank, you, to, all, of, ...  \n",
       "1             [Poll, vs, among, white, Evangelicals]  \n",
       "2  [Obama, on, whether, Trump, could, be, trusted...  "
      ]
     },
     "execution_count": 182,
     "metadata": {},
     "output_type": "execute_result"
    }
   ],
   "source": [
    "tok(training_set).head(3)"
   ]
  },
  {
   "cell_type": "code",
   "execution_count": 183,
   "metadata": {},
   "outputs": [],
   "source": [
    "#stemmer\n",
    "sno = nltk.stem.SnowballStemmer('english')\n",
    "def stemm(tweets):\n",
    "    p = []\n",
    "    for i in tweets['tok_tweet']:\n",
    "        q = []\n",
    "        for j in i:\n",
    "            q.append(sno.stem(j))\n",
    "        p.append(q)\n",
    "    tweets['tok_tweet'] = p\n",
    "    return tweets"
   ]
  },
  {
   "cell_type": "code",
   "execution_count": 184,
   "metadata": {},
   "outputs": [
    {
     "data": {
      "text/html": [
       "<div>\n",
       "<style scoped>\n",
       "    .dataframe tbody tr th:only-of-type {\n",
       "        vertical-align: middle;\n",
       "    }\n",
       "\n",
       "    .dataframe tbody tr th {\n",
       "        vertical-align: top;\n",
       "    }\n",
       "\n",
       "    .dataframe thead th {\n",
       "        text-align: right;\n",
       "    }\n",
       "</style>\n",
       "<table border=\"1\" class=\"dataframe\">\n",
       "  <thead>\n",
       "    <tr style=\"text-align: right;\">\n",
       "      <th></th>\n",
       "      <th>handle</th>\n",
       "      <th>tweet</th>\n",
       "      <th>tok_tweet</th>\n",
       "    </tr>\n",
       "  </thead>\n",
       "  <tbody>\n",
       "    <tr>\n",
       "      <th>0</th>\n",
       "      <td>0</td>\n",
       "      <td>In Tampa Florida thank you to all of our outst...</td>\n",
       "      <td>[in, tampa, florida, thank, you, to, all, of, ...</td>\n",
       "    </tr>\n",
       "    <tr>\n",
       "      <th>1</th>\n",
       "      <td>0</td>\n",
       "      <td>Poll vs among white Evangelicals</td>\n",
       "      <td>[poll, vs, among, white, evangel]</td>\n",
       "    </tr>\n",
       "    <tr>\n",
       "      <th>2</th>\n",
       "      <td>1</td>\n",
       "      <td>Obama on whether Trump could be trusted with U...</td>\n",
       "      <td>[obama, on, whether, trump, could, be, trust, ...</td>\n",
       "    </tr>\n",
       "  </tbody>\n",
       "</table>\n",
       "</div>"
      ],
      "text/plain": [
       "   handle                                              tweet  \\\n",
       "0       0  In Tampa Florida thank you to all of our outst...   \n",
       "1       0                  Poll vs among white Evangelicals    \n",
       "2       1  Obama on whether Trump could be trusted with U...   \n",
       "\n",
       "                                           tok_tweet  \n",
       "0  [in, tampa, florida, thank, you, to, all, of, ...  \n",
       "1                  [poll, vs, among, white, evangel]  \n",
       "2  [obama, on, whether, trump, could, be, trust, ...  "
      ]
     },
     "execution_count": 184,
     "metadata": {},
     "output_type": "execute_result"
    }
   ],
   "source": [
    "stemm(training_set).head(3)"
   ]
  },
  {
   "cell_type": "code",
   "execution_count": 185,
   "metadata": {},
   "outputs": [
    {
     "name": "stdout",
     "output_type": "stream",
     "text": [
      "[nltk_data] Downloading package stopwords to\n",
      "[nltk_data]     /soe/rojinsafavi/nltk_data...\n",
      "[nltk_data]   Package stopwords is already up-to-date!\n"
     ]
    },
    {
     "data": {
      "text/plain": [
       "True"
      ]
     },
     "execution_count": 185,
     "metadata": {},
     "output_type": "execute_result"
    }
   ],
   "source": [
    "from nltk.corpus import stopwords\n",
    "import nltk\n",
    "nltk.download('stopwords')"
   ]
  },
  {
   "cell_type": "code",
   "execution_count": 186,
   "metadata": {},
   "outputs": [],
   "source": [
    "from nltk.corpus import stopwords\n",
    "def stop_words_eliminatin(tweets):\n",
    "    p = []\n",
    "    stop_words = set(stopwords.words('english'))\n",
    "    for i in tweets['tok_tweet']:\n",
    "        q = []\n",
    "        for j in i:\n",
    "            if j not in stop_words:\n",
    "                q.append(j)\n",
    "        p.append(q)\n",
    "        \n",
    "    tweets['tok_tweet'] = p\n",
    "    return tweets"
   ]
  },
  {
   "cell_type": "code",
   "execution_count": 187,
   "metadata": {},
   "outputs": [
    {
     "data": {
      "text/html": [
       "<div>\n",
       "<style scoped>\n",
       "    .dataframe tbody tr th:only-of-type {\n",
       "        vertical-align: middle;\n",
       "    }\n",
       "\n",
       "    .dataframe tbody tr th {\n",
       "        vertical-align: top;\n",
       "    }\n",
       "\n",
       "    .dataframe thead th {\n",
       "        text-align: right;\n",
       "    }\n",
       "</style>\n",
       "<table border=\"1\" class=\"dataframe\">\n",
       "  <thead>\n",
       "    <tr style=\"text-align: right;\">\n",
       "      <th></th>\n",
       "      <th>handle</th>\n",
       "      <th>tweet</th>\n",
       "      <th>tok_tweet</th>\n",
       "    </tr>\n",
       "  </thead>\n",
       "  <tbody>\n",
       "    <tr>\n",
       "      <th>0</th>\n",
       "      <td>0</td>\n",
       "      <td>In Tampa Florida thank you to all of our outst...</td>\n",
       "      <td>[tampa, florida, thank, outstand, volunt, want...</td>\n",
       "    </tr>\n",
       "    <tr>\n",
       "      <th>1</th>\n",
       "      <td>0</td>\n",
       "      <td>Poll vs among white Evangelicals</td>\n",
       "      <td>[poll, vs, among, white, evangel]</td>\n",
       "    </tr>\n",
       "    <tr>\n",
       "      <th>2</th>\n",
       "      <td>1</td>\n",
       "      <td>Obama on whether Trump could be trusted with U...</td>\n",
       "      <td>[obama, whether, trump, could, trust, us, nucl...</td>\n",
       "    </tr>\n",
       "  </tbody>\n",
       "</table>\n",
       "</div>"
      ],
      "text/plain": [
       "   handle                                              tweet  \\\n",
       "0       0  In Tampa Florida thank you to all of our outst...   \n",
       "1       0                  Poll vs among white Evangelicals    \n",
       "2       1  Obama on whether Trump could be trusted with U...   \n",
       "\n",
       "                                           tok_tweet  \n",
       "0  [tampa, florida, thank, outstand, volunt, want...  \n",
       "1                  [poll, vs, among, white, evangel]  \n",
       "2  [obama, whether, trump, could, trust, us, nucl...  "
      ]
     },
     "execution_count": 187,
     "metadata": {},
     "output_type": "execute_result"
    }
   ],
   "source": [
    "stop_words_eliminatin(training_set).head(3)"
   ]
  },
  {
   "cell_type": "code",
   "execution_count": 188,
   "metadata": {},
   "outputs": [],
   "source": [
    "# add tokenized sentece length:\n",
    "P = []\n",
    "for i in training_set['tok_tweet']:\n",
    "    length = len(i)\n",
    "    P.append(length)\n",
    "training_set['length'] = P"
   ]
  },
  {
   "cell_type": "code",
   "execution_count": 189,
   "metadata": {},
   "outputs": [],
   "source": [
    "k = []\n",
    "for i in training_set['tok_tweet']:\n",
    "    l = []\n",
    "    for j in i:\n",
    "        l.append(word_indexes[j])\n",
    "    k.append(l)\n",
    "training_set['word_ids'] = k\n",
    "\n",
    "training_set = training_set[training_set['word_ids'].apply(lambda c: c!=[])] #removing empty tweeets"
   ]
  },
  {
   "cell_type": "code",
   "execution_count": 190,
   "metadata": {},
   "outputs": [
    {
     "data": {
      "text/html": [
       "<div>\n",
       "<style scoped>\n",
       "    .dataframe tbody tr th:only-of-type {\n",
       "        vertical-align: middle;\n",
       "    }\n",
       "\n",
       "    .dataframe tbody tr th {\n",
       "        vertical-align: top;\n",
       "    }\n",
       "\n",
       "    .dataframe thead th {\n",
       "        text-align: right;\n",
       "    }\n",
       "</style>\n",
       "<table border=\"1\" class=\"dataframe\">\n",
       "  <thead>\n",
       "    <tr style=\"text-align: right;\">\n",
       "      <th></th>\n",
       "      <th>handle</th>\n",
       "      <th>tweet</th>\n",
       "      <th>tok_tweet</th>\n",
       "      <th>length</th>\n",
       "      <th>word_ids</th>\n",
       "    </tr>\n",
       "  </thead>\n",
       "  <tbody>\n",
       "    <tr>\n",
       "      <th>0</th>\n",
       "      <td>0</td>\n",
       "      <td>In Tampa Florida thank you to all of our outst...</td>\n",
       "      <td>[tampa, florida, thank, outstand, volunt, want...</td>\n",
       "      <td>7</td>\n",
       "      <td>[14387, 3780, 336, 1193508, 668240, 128, 1193509]</td>\n",
       "    </tr>\n",
       "    <tr>\n",
       "      <th>1</th>\n",
       "      <td>0</td>\n",
       "      <td>Poll vs among white Evangelicals</td>\n",
       "      <td>[poll, vs, among, white, evangel]</td>\n",
       "      <td>5</td>\n",
       "      <td>[9836, 916, 8634, 811, 469675]</td>\n",
       "    </tr>\n",
       "    <tr>\n",
       "      <th>2</th>\n",
       "      <td>1</td>\n",
       "      <td>Obama on whether Trump could be trusted with U...</td>\n",
       "      <td>[obama, whether, trump, could, trust, us, nucl...</td>\n",
       "      <td>10</td>\n",
       "      <td>[1380, 4527, 28622, 296, 978, 290, 11639, 1604...</td>\n",
       "    </tr>\n",
       "  </tbody>\n",
       "</table>\n",
       "</div>"
      ],
      "text/plain": [
       "   handle                                              tweet  \\\n",
       "0       0  In Tampa Florida thank you to all of our outst...   \n",
       "1       0                  Poll vs among white Evangelicals    \n",
       "2       1  Obama on whether Trump could be trusted with U...   \n",
       "\n",
       "                                           tok_tweet  length  \\\n",
       "0  [tampa, florida, thank, outstand, volunt, want...       7   \n",
       "1                  [poll, vs, among, white, evangel]       5   \n",
       "2  [obama, whether, trump, could, trust, us, nucl...      10   \n",
       "\n",
       "                                            word_ids  \n",
       "0  [14387, 3780, 336, 1193508, 668240, 128, 1193509]  \n",
       "1                     [9836, 916, 8634, 811, 469675]  \n",
       "2  [1380, 4527, 28622, 296, 978, 290, 11639, 1604...  "
      ]
     },
     "execution_count": 190,
     "metadata": {},
     "output_type": "execute_result"
    }
   ],
   "source": [
    "training_set.head(3)"
   ]
  },
  {
   "cell_type": "code",
   "execution_count": 191,
   "metadata": {},
   "outputs": [
    {
     "data": {
      "text/plain": [
       "4992"
      ]
     },
     "execution_count": 191,
     "metadata": {},
     "output_type": "execute_result"
    }
   ],
   "source": [
    "len(training_set)"
   ]
  },
  {
   "cell_type": "code",
   "execution_count": 192,
   "metadata": {},
   "outputs": [],
   "source": [
    "# number of words in our dict:\n",
    "count = {}\n",
    "for i in training_set['tok_tweet']:\n",
    "    for j in i:\n",
    "        if j not in count:\n",
    "            count[j] = 1\n",
    "        else:\n",
    "            count[j] += 1"
   ]
  },
  {
   "cell_type": "code",
   "execution_count": 193,
   "metadata": {},
   "outputs": [
    {
     "data": {
      "text/plain": [
       "6444"
      ]
     },
     "execution_count": 193,
     "metadata": {},
     "output_type": "execute_result"
    }
   ],
   "source": [
    "len(count)"
   ]
  },
  {
   "cell_type": "code",
   "execution_count": 194,
   "metadata": {},
   "outputs": [],
   "source": [
    "# find the index of words for the sentence from the embedding\n",
    "word_indexes = {}\n",
    "\n",
    "for i,j in enumerate(embedding[0]):\n",
    "    if j not in word_indexes:\n",
    "        word_indexes[str(j)] = i\n",
    "    \n",
    "for i,j in enumerate(count.keys()):\n",
    "    if j not in word_indexes:\n",
    "        word_indexes[str(j)] = len(word_indexes)"
   ]
  },
  {
   "cell_type": "code",
   "execution_count": 195,
   "metadata": {},
   "outputs": [],
   "source": [
    "h = np.asmatrix([25*[0]]*((len(set(count.keys()) - set(embedding[0])))))\n",
    "\n",
    "embedding_matrix_with_zero = np.concatenate((embedding_matrix,\n",
    "                                             h)).astype(np.float32)"
   ]
  },
  {
   "cell_type": "code",
   "execution_count": 196,
   "metadata": {},
   "outputs": [
    {
     "data": {
      "text/plain": [
       "(1195727, 25)"
      ]
     },
     "execution_count": 196,
     "metadata": {},
     "output_type": "execute_result"
    }
   ],
   "source": [
    "embedding_matrix_with_zero.shape"
   ]
  },
  {
   "cell_type": "code",
   "execution_count": 197,
   "metadata": {},
   "outputs": [],
   "source": [
    "# we need to make all the length similar in our table to have a dense vector\n",
    "max_len = max(training_set['length'])\n",
    "max_of_embedding = len(embedding_matrix_with_zero) - 1 # an index with zero values, I know that the last one is zero\n",
    "padded_lengths = []\n",
    "for i in range(len(training_set)):\n",
    "    length = training_set.iloc[i]['length']\n",
    "    words_ids = training_set.iloc[i]['word_ids']\n",
    "    difference = max_len - length\n",
    "    padded_lengths.append(words_ids + difference*[max_of_embedding])\n",
    "training_set['word_ids'] = padded_lengths"
   ]
  },
  {
   "cell_type": "code",
   "execution_count": 198,
   "metadata": {},
   "outputs": [
    {
     "data": {
      "text/html": [
       "<div>\n",
       "<style scoped>\n",
       "    .dataframe tbody tr th:only-of-type {\n",
       "        vertical-align: middle;\n",
       "    }\n",
       "\n",
       "    .dataframe tbody tr th {\n",
       "        vertical-align: top;\n",
       "    }\n",
       "\n",
       "    .dataframe thead th {\n",
       "        text-align: right;\n",
       "    }\n",
       "</style>\n",
       "<table border=\"1\" class=\"dataframe\">\n",
       "  <thead>\n",
       "    <tr style=\"text-align: right;\">\n",
       "      <th></th>\n",
       "      <th>handle</th>\n",
       "      <th>tweet</th>\n",
       "      <th>tok_tweet</th>\n",
       "      <th>length</th>\n",
       "      <th>word_ids</th>\n",
       "    </tr>\n",
       "  </thead>\n",
       "  <tbody>\n",
       "    <tr>\n",
       "      <th>0</th>\n",
       "      <td>0</td>\n",
       "      <td>In Tampa Florida thank you to all of our outst...</td>\n",
       "      <td>[tampa, florida, thank, outstand, volunt, want...</td>\n",
       "      <td>7</td>\n",
       "      <td>[14387, 3780, 336, 1193508, 668240, 128, 11935...</td>\n",
       "    </tr>\n",
       "    <tr>\n",
       "      <th>1</th>\n",
       "      <td>0</td>\n",
       "      <td>Poll vs among white Evangelicals</td>\n",
       "      <td>[poll, vs, among, white, evangel]</td>\n",
       "      <td>5</td>\n",
       "      <td>[9836, 916, 8634, 811, 469675, 1195726, 119572...</td>\n",
       "    </tr>\n",
       "    <tr>\n",
       "      <th>2</th>\n",
       "      <td>1</td>\n",
       "      <td>Obama on whether Trump could be trusted with U...</td>\n",
       "      <td>[obama, whether, trump, could, trust, us, nucl...</td>\n",
       "      <td>10</td>\n",
       "      <td>[1380, 4527, 28622, 296, 978, 290, 11639, 1604...</td>\n",
       "    </tr>\n",
       "  </tbody>\n",
       "</table>\n",
       "</div>"
      ],
      "text/plain": [
       "   handle                                              tweet  \\\n",
       "0       0  In Tampa Florida thank you to all of our outst...   \n",
       "1       0                  Poll vs among white Evangelicals    \n",
       "2       1  Obama on whether Trump could be trusted with U...   \n",
       "\n",
       "                                           tok_tweet  length  \\\n",
       "0  [tampa, florida, thank, outstand, volunt, want...       7   \n",
       "1                  [poll, vs, among, white, evangel]       5   \n",
       "2  [obama, whether, trump, could, trust, us, nucl...      10   \n",
       "\n",
       "                                            word_ids  \n",
       "0  [14387, 3780, 336, 1193508, 668240, 128, 11935...  \n",
       "1  [9836, 916, 8634, 811, 469675, 1195726, 119572...  \n",
       "2  [1380, 4527, 28622, 296, 978, 290, 11639, 1604...  "
      ]
     },
     "execution_count": 198,
     "metadata": {},
     "output_type": "execute_result"
    }
   ],
   "source": [
    "training_set.head(3)"
   ]
  },
  {
   "cell_type": "code",
   "execution_count": 263,
   "metadata": {},
   "outputs": [],
   "source": [
    "def embedding_fun(embedding_matrix,train_table):\n",
    "    \n",
    "    \n",
    "    word_embeddings = tf.Variable(\"word_embedding_trial15\", [len(embedding_matrix), 25])\n",
    "    embedded_word_ids = tf.nn.embedding_lookup(embedding_matrix, list(train_table['word_ids']))\n",
    "\n",
    "        \n",
    "    return embedded_word_ids"
   ]
  },
  {
   "cell_type": "code",
   "execution_count": 264,
   "metadata": {},
   "outputs": [],
   "source": [
    "iii = embedding_fun(embedding_matrix_with_zero, training_set)"
   ]
  },
  {
   "cell_type": "code",
   "execution_count": 265,
   "metadata": {},
   "outputs": [],
   "source": [
    "init = tf.global_variables_initializer()\n",
    "with tf.Session() as sess:\n",
    "    init.run()\n",
    "    iop = iii.eval()"
   ]
  },
  {
   "cell_type": "code",
   "execution_count": 266,
   "metadata": {},
   "outputs": [
    {
     "data": {
      "text/plain": [
       "(4992, 24, 25)"
      ]
     },
     "execution_count": 266,
     "metadata": {},
     "output_type": "execute_result"
    }
   ],
   "source": [
    "iop.shape"
   ]
  }
 ],
 "metadata": {
  "kernelspec": {
   "display_name": "Python 3",
   "language": "python",
   "name": "python3"
  },
  "language_info": {
   "codemirror_mode": {
    "name": "ipython",
    "version": 3
   },
   "file_extension": ".py",
   "mimetype": "text/x-python",
   "name": "python",
   "nbconvert_exporter": "python",
   "pygments_lexer": "ipython3",
   "version": "3.6.4"
  }
 },
 "nbformat": 4,
 "nbformat_minor": 2
}
