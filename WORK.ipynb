{
 "cells": [
  {
   "cell_type": "code",
   "execution_count": 1,
   "metadata": {},
   "outputs": [
    {
     "name": "stderr",
     "output_type": "stream",
     "text": [
      "/projects/nanopore-working/rojin/nanoraw-signalAlign-nanopolish/anaconda2/envs/py36/lib/python3.6/site-packages/h5py/__init__.py:36: FutureWarning: Conversion of the second argument of issubdtype from `float` to `np.floating` is deprecated. In future, it will be treated as `np.float64 == np.dtype(float).type`.\n",
      "  from ._conv import register_converters as _register_converters\n"
     ]
    }
   ],
   "source": [
    "import tensorflow as tf\n",
    "import pandas as pd\n",
    "import numpy as np\n",
    "from nltk.stem.lancaster import LancasterStemmer\n",
    "from nltk.corpus import stopwords\n",
    "from nltk.tokenize import word_tokenize\n",
    "import re\n",
    "import nltk"
   ]
  },
  {
   "cell_type": "code",
   "execution_count": 2,
   "metadata": {},
   "outputs": [],
   "source": [
    "embedding = pd.read_table('glove.twitter.27B.25d.txt', sep = \" \", header= None)"
   ]
  },
  {
   "cell_type": "code",
   "execution_count": 3,
   "metadata": {},
   "outputs": [],
   "source": [
    "embedding = embedding.dropna()"
   ]
  },
  {
   "cell_type": "code",
   "execution_count": 4,
   "metadata": {},
   "outputs": [
    {
     "data": {
      "text/plain": [
       "1193508"
      ]
     },
     "execution_count": 4,
     "metadata": {},
     "output_type": "execute_result"
    }
   ],
   "source": [
    "len(embedding[0])"
   ]
  },
  {
   "cell_type": "code",
   "execution_count": 5,
   "metadata": {},
   "outputs": [],
   "source": [
    "embedding_matrix = embedding[list(range(1,26))].as_matrix()"
   ]
  },
  {
   "cell_type": "code",
   "execution_count": 6,
   "metadata": {},
   "outputs": [
    {
     "data": {
      "text/html": [
       "<div>\n",
       "<style scoped>\n",
       "    .dataframe tbody tr th:only-of-type {\n",
       "        vertical-align: middle;\n",
       "    }\n",
       "\n",
       "    .dataframe tbody tr th {\n",
       "        vertical-align: top;\n",
       "    }\n",
       "\n",
       "    .dataframe thead th {\n",
       "        text-align: right;\n",
       "    }\n",
       "</style>\n",
       "<table border=\"1\" class=\"dataframe\">\n",
       "  <thead>\n",
       "    <tr style=\"text-align: right;\">\n",
       "      <th></th>\n",
       "      <th>handle</th>\n",
       "      <th>tweet</th>\n",
       "    </tr>\n",
       "  </thead>\n",
       "  <tbody>\n",
       "    <tr>\n",
       "      <th>0</th>\n",
       "      <td>realDonaldTrump</td>\n",
       "      <td>In Tampa, Florida- thank you to all of our out...</td>\n",
       "    </tr>\n",
       "    <tr>\n",
       "      <th>1</th>\n",
       "      <td>realDonaldTrump</td>\n",
       "      <td>Poll: @realDonaldTrump vs. @HillaryClinton amo...</td>\n",
       "    </tr>\n",
       "    <tr>\n",
       "      <th>2</th>\n",
       "      <td>HillaryClinton</td>\n",
       "      <td>Obama on whether Trump could be trusted with U...</td>\n",
       "    </tr>\n",
       "  </tbody>\n",
       "</table>\n",
       "</div>"
      ],
      "text/plain": [
       "            handle                                              tweet\n",
       "0  realDonaldTrump  In Tampa, Florida- thank you to all of our out...\n",
       "1  realDonaldTrump  Poll: @realDonaldTrump vs. @HillaryClinton amo...\n",
       "2   HillaryClinton  Obama on whether Trump could be trusted with U..."
      ]
     },
     "execution_count": 6,
     "metadata": {},
     "output_type": "execute_result"
    }
   ],
   "source": [
    "# editing the input sentences\n",
    "training_set = pd.read_csv('train.csv', encoding=\"ISO-8859-1\")\n",
    "training_set.head(3)"
   ]
  },
  {
   "cell_type": "code",
   "execution_count": 7,
   "metadata": {},
   "outputs": [],
   "source": [
    "training_set['handle']=training_set['handle'].map({'HillaryClinton':1,'realDonaldTrump':0})"
   ]
  },
  {
   "cell_type": "code",
   "execution_count": 8,
   "metadata": {},
   "outputs": [
    {
     "data": {
      "text/html": [
       "<div>\n",
       "<style scoped>\n",
       "    .dataframe tbody tr th:only-of-type {\n",
       "        vertical-align: middle;\n",
       "    }\n",
       "\n",
       "    .dataframe tbody tr th {\n",
       "        vertical-align: top;\n",
       "    }\n",
       "\n",
       "    .dataframe thead th {\n",
       "        text-align: right;\n",
       "    }\n",
       "</style>\n",
       "<table border=\"1\" class=\"dataframe\">\n",
       "  <thead>\n",
       "    <tr style=\"text-align: right;\">\n",
       "      <th></th>\n",
       "      <th>handle</th>\n",
       "      <th>tweet</th>\n",
       "    </tr>\n",
       "  </thead>\n",
       "  <tbody>\n",
       "    <tr>\n",
       "      <th>0</th>\n",
       "      <td>0</td>\n",
       "      <td>In Tampa, Florida- thank you to all of our out...</td>\n",
       "    </tr>\n",
       "    <tr>\n",
       "      <th>1</th>\n",
       "      <td>0</td>\n",
       "      <td>Poll: @realDonaldTrump vs. @HillaryClinton amo...</td>\n",
       "    </tr>\n",
       "    <tr>\n",
       "      <th>2</th>\n",
       "      <td>1</td>\n",
       "      <td>Obama on whether Trump could be trusted with U...</td>\n",
       "    </tr>\n",
       "  </tbody>\n",
       "</table>\n",
       "</div>"
      ],
      "text/plain": [
       "   handle                                              tweet\n",
       "0       0  In Tampa, Florida- thank you to all of our out...\n",
       "1       0  Poll: @realDonaldTrump vs. @HillaryClinton amo...\n",
       "2       1  Obama on whether Trump could be trusted with U..."
      ]
     },
     "execution_count": 8,
     "metadata": {},
     "output_type": "execute_result"
    }
   ],
   "source": [
    "training_set.head(3)"
   ]
  },
  {
   "cell_type": "code",
   "execution_count": 9,
   "metadata": {},
   "outputs": [],
   "source": [
    "# I adapted this from another a site, need to cite it here\n",
    "def remove_by_regex(tweets, regexp):\n",
    "    tweets.loc[:, \"tweet\"].replace(regexp, \"\", inplace=True)\n",
    "    return tweets\n",
    "\n",
    "def remove_special_chars(tweets):  # it unrolls the hashtags to normal words\n",
    "    for remove in map(lambda r: re.compile(re.escape(r)), [\",\", \":\", \"\\\"\", \"=\", \"&\", \";\", \"%\", \"$\",\n",
    "                                                                 \"@\", \"%\", \"^\", \"*\", \"(\", \")\", \"{\", \"}\",\n",
    "                                                                 \"[\", \"]\", \"|\", \"/\", \"\\\\\", \">\", \"<\", \"-\",\n",
    "                                                                 \"!\", \"?\", \".\", \"'\",\n",
    "                                                                 \"--\", \"---\", \"#\", \"\\n\" , \"—@\", \"→\"]):\n",
    "        tweets.loc[:, \"tweet\"].replace(remove, \"\", inplace=True)\n",
    "    return tweets\n",
    "\n",
    "def remove_things(tweets):\n",
    "    remove_by_regex(tweets, re.compile(r\"http.?://[^\\s]+[\\s]?\"))\n",
    "    remove_by_regex(tweets, re.compile(r\"@[^\\s]+[\\s]?\"))\n",
    "    remove_by_regex(tweets, re.compile(r\"\\s?[0-9]+\\.?[0-9]*\"))\n",
    "    remove_special_chars(tweets)\n",
    "    return tweets"
   ]
  },
  {
   "cell_type": "code",
   "execution_count": 10,
   "metadata": {},
   "outputs": [
    {
     "data": {
      "text/html": [
       "<div>\n",
       "<style scoped>\n",
       "    .dataframe tbody tr th:only-of-type {\n",
       "        vertical-align: middle;\n",
       "    }\n",
       "\n",
       "    .dataframe tbody tr th {\n",
       "        vertical-align: top;\n",
       "    }\n",
       "\n",
       "    .dataframe thead th {\n",
       "        text-align: right;\n",
       "    }\n",
       "</style>\n",
       "<table border=\"1\" class=\"dataframe\">\n",
       "  <thead>\n",
       "    <tr style=\"text-align: right;\">\n",
       "      <th></th>\n",
       "      <th>handle</th>\n",
       "      <th>tweet</th>\n",
       "    </tr>\n",
       "  </thead>\n",
       "  <tbody>\n",
       "    <tr>\n",
       "      <th>0</th>\n",
       "      <td>0</td>\n",
       "      <td>In Tampa Florida thank you to all of our outst...</td>\n",
       "    </tr>\n",
       "    <tr>\n",
       "      <th>1</th>\n",
       "      <td>0</td>\n",
       "      <td>Poll vs among white Evangelicals</td>\n",
       "    </tr>\n",
       "    <tr>\n",
       "      <th>2</th>\n",
       "      <td>1</td>\n",
       "      <td>Obama on whether Trump could be trusted with U...</td>\n",
       "    </tr>\n",
       "  </tbody>\n",
       "</table>\n",
       "</div>"
      ],
      "text/plain": [
       "   handle                                              tweet\n",
       "0       0  In Tampa Florida thank you to all of our outst...\n",
       "1       0                  Poll vs among white Evangelicals \n",
       "2       1  Obama on whether Trump could be trusted with U..."
      ]
     },
     "execution_count": 10,
     "metadata": {},
     "output_type": "execute_result"
    }
   ],
   "source": [
    "remove_things(training_set).head(3)"
   ]
  },
  {
   "cell_type": "code",
   "execution_count": 11,
   "metadata": {},
   "outputs": [],
   "source": [
    "#tokenize\n",
    "from nltk.tokenize import RegexpTokenizer\n",
    "tokenizer = RegexpTokenizer(r'\\w+')\n",
    "tokenizer.tokenize\n",
    "def tok(tweets):\n",
    "    p = []\n",
    "    for i in tweets['tweet']:\n",
    "        tokenizer = RegexpTokenizer(r'\\w+')\n",
    "        p.append(tokenizer.tokenize(i))\n",
    "    tweets['tok_tweet'] = p\n",
    "    return tweets"
   ]
  },
  {
   "cell_type": "code",
   "execution_count": 12,
   "metadata": {},
   "outputs": [
    {
     "data": {
      "text/html": [
       "<div>\n",
       "<style scoped>\n",
       "    .dataframe tbody tr th:only-of-type {\n",
       "        vertical-align: middle;\n",
       "    }\n",
       "\n",
       "    .dataframe tbody tr th {\n",
       "        vertical-align: top;\n",
       "    }\n",
       "\n",
       "    .dataframe thead th {\n",
       "        text-align: right;\n",
       "    }\n",
       "</style>\n",
       "<table border=\"1\" class=\"dataframe\">\n",
       "  <thead>\n",
       "    <tr style=\"text-align: right;\">\n",
       "      <th></th>\n",
       "      <th>handle</th>\n",
       "      <th>tweet</th>\n",
       "      <th>tok_tweet</th>\n",
       "    </tr>\n",
       "  </thead>\n",
       "  <tbody>\n",
       "    <tr>\n",
       "      <th>0</th>\n",
       "      <td>0</td>\n",
       "      <td>In Tampa Florida thank you to all of our outst...</td>\n",
       "      <td>[In, Tampa, Florida, thank, you, to, all, of, ...</td>\n",
       "    </tr>\n",
       "    <tr>\n",
       "      <th>1</th>\n",
       "      <td>0</td>\n",
       "      <td>Poll vs among white Evangelicals</td>\n",
       "      <td>[Poll, vs, among, white, Evangelicals]</td>\n",
       "    </tr>\n",
       "    <tr>\n",
       "      <th>2</th>\n",
       "      <td>1</td>\n",
       "      <td>Obama on whether Trump could be trusted with U...</td>\n",
       "      <td>[Obama, on, whether, Trump, could, be, trusted...</td>\n",
       "    </tr>\n",
       "  </tbody>\n",
       "</table>\n",
       "</div>"
      ],
      "text/plain": [
       "   handle                                              tweet  \\\n",
       "0       0  In Tampa Florida thank you to all of our outst...   \n",
       "1       0                  Poll vs among white Evangelicals    \n",
       "2       1  Obama on whether Trump could be trusted with U...   \n",
       "\n",
       "                                           tok_tweet  \n",
       "0  [In, Tampa, Florida, thank, you, to, all, of, ...  \n",
       "1             [Poll, vs, among, white, Evangelicals]  \n",
       "2  [Obama, on, whether, Trump, could, be, trusted...  "
      ]
     },
     "execution_count": 12,
     "metadata": {},
     "output_type": "execute_result"
    }
   ],
   "source": [
    "tok(training_set).head(3)"
   ]
  },
  {
   "cell_type": "code",
   "execution_count": 13,
   "metadata": {},
   "outputs": [],
   "source": [
    "#stemmer\n",
    "sno = nltk.stem.SnowballStemmer('english')\n",
    "def stemm(tweets):\n",
    "    p = []\n",
    "    for i in tweets['tok_tweet']:\n",
    "        q = []\n",
    "        for j in i:\n",
    "            q.append(sno.stem(j))\n",
    "        p.append(q)\n",
    "    tweets['tok_tweet'] = p\n",
    "    return tweets"
   ]
  },
  {
   "cell_type": "code",
   "execution_count": 14,
   "metadata": {},
   "outputs": [
    {
     "data": {
      "text/html": [
       "<div>\n",
       "<style scoped>\n",
       "    .dataframe tbody tr th:only-of-type {\n",
       "        vertical-align: middle;\n",
       "    }\n",
       "\n",
       "    .dataframe tbody tr th {\n",
       "        vertical-align: top;\n",
       "    }\n",
       "\n",
       "    .dataframe thead th {\n",
       "        text-align: right;\n",
       "    }\n",
       "</style>\n",
       "<table border=\"1\" class=\"dataframe\">\n",
       "  <thead>\n",
       "    <tr style=\"text-align: right;\">\n",
       "      <th></th>\n",
       "      <th>handle</th>\n",
       "      <th>tweet</th>\n",
       "      <th>tok_tweet</th>\n",
       "    </tr>\n",
       "  </thead>\n",
       "  <tbody>\n",
       "    <tr>\n",
       "      <th>0</th>\n",
       "      <td>0</td>\n",
       "      <td>In Tampa Florida thank you to all of our outst...</td>\n",
       "      <td>[in, tampa, florida, thank, you, to, all, of, ...</td>\n",
       "    </tr>\n",
       "    <tr>\n",
       "      <th>1</th>\n",
       "      <td>0</td>\n",
       "      <td>Poll vs among white Evangelicals</td>\n",
       "      <td>[poll, vs, among, white, evangel]</td>\n",
       "    </tr>\n",
       "    <tr>\n",
       "      <th>2</th>\n",
       "      <td>1</td>\n",
       "      <td>Obama on whether Trump could be trusted with U...</td>\n",
       "      <td>[obama, on, whether, trump, could, be, trust, ...</td>\n",
       "    </tr>\n",
       "  </tbody>\n",
       "</table>\n",
       "</div>"
      ],
      "text/plain": [
       "   handle                                              tweet  \\\n",
       "0       0  In Tampa Florida thank you to all of our outst...   \n",
       "1       0                  Poll vs among white Evangelicals    \n",
       "2       1  Obama on whether Trump could be trusted with U...   \n",
       "\n",
       "                                           tok_tweet  \n",
       "0  [in, tampa, florida, thank, you, to, all, of, ...  \n",
       "1                  [poll, vs, among, white, evangel]  \n",
       "2  [obama, on, whether, trump, could, be, trust, ...  "
      ]
     },
     "execution_count": 14,
     "metadata": {},
     "output_type": "execute_result"
    }
   ],
   "source": [
    "stemm(training_set).head(3)"
   ]
  },
  {
   "cell_type": "code",
   "execution_count": 15,
   "metadata": {},
   "outputs": [
    {
     "name": "stdout",
     "output_type": "stream",
     "text": [
      "[nltk_data] Downloading package stopwords to\n",
      "[nltk_data]     /soe/rojinsafavi/nltk_data...\n",
      "[nltk_data]   Package stopwords is already up-to-date!\n"
     ]
    },
    {
     "data": {
      "text/plain": [
       "True"
      ]
     },
     "execution_count": 15,
     "metadata": {},
     "output_type": "execute_result"
    }
   ],
   "source": [
    "from nltk.corpus import stopwords\n",
    "import nltk\n",
    "nltk.download('stopwords')"
   ]
  },
  {
   "cell_type": "code",
   "execution_count": 16,
   "metadata": {},
   "outputs": [],
   "source": [
    "from nltk.corpus import stopwords\n",
    "def stop_words_eliminatin(tweets):\n",
    "    p = []\n",
    "    stop_words = set(stopwords.words('english'))\n",
    "    for i in tweets['tok_tweet']:\n",
    "        q = []\n",
    "        for j in i:\n",
    "            if j not in stop_words:\n",
    "                q.append(j)\n",
    "        p.append(q)\n",
    "        \n",
    "    tweets['tok_tweet'] = p\n",
    "    return tweets"
   ]
  },
  {
   "cell_type": "code",
   "execution_count": 17,
   "metadata": {},
   "outputs": [
    {
     "data": {
      "text/html": [
       "<div>\n",
       "<style scoped>\n",
       "    .dataframe tbody tr th:only-of-type {\n",
       "        vertical-align: middle;\n",
       "    }\n",
       "\n",
       "    .dataframe tbody tr th {\n",
       "        vertical-align: top;\n",
       "    }\n",
       "\n",
       "    .dataframe thead th {\n",
       "        text-align: right;\n",
       "    }\n",
       "</style>\n",
       "<table border=\"1\" class=\"dataframe\">\n",
       "  <thead>\n",
       "    <tr style=\"text-align: right;\">\n",
       "      <th></th>\n",
       "      <th>handle</th>\n",
       "      <th>tweet</th>\n",
       "      <th>tok_tweet</th>\n",
       "    </tr>\n",
       "  </thead>\n",
       "  <tbody>\n",
       "    <tr>\n",
       "      <th>0</th>\n",
       "      <td>0</td>\n",
       "      <td>In Tampa Florida thank you to all of our outst...</td>\n",
       "      <td>[tampa, florida, thank, outstand, volunt, want...</td>\n",
       "    </tr>\n",
       "    <tr>\n",
       "      <th>1</th>\n",
       "      <td>0</td>\n",
       "      <td>Poll vs among white Evangelicals</td>\n",
       "      <td>[poll, vs, among, white, evangel]</td>\n",
       "    </tr>\n",
       "    <tr>\n",
       "      <th>2</th>\n",
       "      <td>1</td>\n",
       "      <td>Obama on whether Trump could be trusted with U...</td>\n",
       "      <td>[obama, whether, trump, could, trust, us, nucl...</td>\n",
       "    </tr>\n",
       "  </tbody>\n",
       "</table>\n",
       "</div>"
      ],
      "text/plain": [
       "   handle                                              tweet  \\\n",
       "0       0  In Tampa Florida thank you to all of our outst...   \n",
       "1       0                  Poll vs among white Evangelicals    \n",
       "2       1  Obama on whether Trump could be trusted with U...   \n",
       "\n",
       "                                           tok_tweet  \n",
       "0  [tampa, florida, thank, outstand, volunt, want...  \n",
       "1                  [poll, vs, among, white, evangel]  \n",
       "2  [obama, whether, trump, could, trust, us, nucl...  "
      ]
     },
     "execution_count": 17,
     "metadata": {},
     "output_type": "execute_result"
    }
   ],
   "source": [
    "stop_words_eliminatin(training_set).head(3)"
   ]
  },
  {
   "cell_type": "code",
   "execution_count": 18,
   "metadata": {},
   "outputs": [],
   "source": [
    "# add tokenized sentece length:\n",
    "P = []\n",
    "for i in training_set['tok_tweet']:\n",
    "    length = len(i)\n",
    "    P.append(length)\n",
    "training_set['length'] = P"
   ]
  },
  {
   "cell_type": "code",
   "execution_count": 19,
   "metadata": {},
   "outputs": [
    {
     "data": {
      "text/plain": [
       "6444"
      ]
     },
     "execution_count": 19,
     "metadata": {},
     "output_type": "execute_result"
    }
   ],
   "source": [
    "# number of words in our dict:\n",
    "count = {}\n",
    "for i in training_set['tok_tweet']:\n",
    "    for j in i:\n",
    "        if j not in count:\n",
    "            count[j] = 1\n",
    "        else:\n",
    "            count[j] += 1\n",
    "len(count)"
   ]
  },
  {
   "cell_type": "code",
   "execution_count": 20,
   "metadata": {},
   "outputs": [],
   "source": [
    "# find the index of words for the sentence from the embedding\n",
    "word_indexes = {}\n",
    "\n",
    "for i,j in enumerate(embedding[0]):\n",
    "    if j not in word_indexes:\n",
    "        word_indexes[str(j)] = i\n",
    "    \n",
    "for i,j in enumerate(count.keys()):\n",
    "    if j not in word_indexes:\n",
    "        word_indexes[str(j)] = len(word_indexes)"
   ]
  },
  {
   "cell_type": "code",
   "execution_count": 21,
   "metadata": {},
   "outputs": [],
   "source": [
    "k = []\n",
    "for i in training_set['tok_tweet']:\n",
    "    l = []\n",
    "    for j in i:\n",
    "        l.append(word_indexes[j])\n",
    "    k.append(l)\n",
    "training_set['word_ids'] = k\n",
    "\n",
    "training_set = training_set[training_set['word_ids'].apply(lambda c: c!=[])] #removing empty tweeets"
   ]
  },
  {
   "cell_type": "code",
   "execution_count": 22,
   "metadata": {},
   "outputs": [
    {
     "data": {
      "text/html": [
       "<div>\n",
       "<style scoped>\n",
       "    .dataframe tbody tr th:only-of-type {\n",
       "        vertical-align: middle;\n",
       "    }\n",
       "\n",
       "    .dataframe tbody tr th {\n",
       "        vertical-align: top;\n",
       "    }\n",
       "\n",
       "    .dataframe thead th {\n",
       "        text-align: right;\n",
       "    }\n",
       "</style>\n",
       "<table border=\"1\" class=\"dataframe\">\n",
       "  <thead>\n",
       "    <tr style=\"text-align: right;\">\n",
       "      <th></th>\n",
       "      <th>handle</th>\n",
       "      <th>tweet</th>\n",
       "      <th>tok_tweet</th>\n",
       "      <th>length</th>\n",
       "      <th>word_ids</th>\n",
       "    </tr>\n",
       "  </thead>\n",
       "  <tbody>\n",
       "    <tr>\n",
       "      <th>0</th>\n",
       "      <td>0</td>\n",
       "      <td>In Tampa Florida thank you to all of our outst...</td>\n",
       "      <td>[tampa, florida, thank, outstand, volunt, want...</td>\n",
       "      <td>7</td>\n",
       "      <td>[14387, 3780, 336, 1193508, 668240, 128, 1193509]</td>\n",
       "    </tr>\n",
       "    <tr>\n",
       "      <th>1</th>\n",
       "      <td>0</td>\n",
       "      <td>Poll vs among white Evangelicals</td>\n",
       "      <td>[poll, vs, among, white, evangel]</td>\n",
       "      <td>5</td>\n",
       "      <td>[9836, 916, 8634, 811, 469675]</td>\n",
       "    </tr>\n",
       "    <tr>\n",
       "      <th>2</th>\n",
       "      <td>1</td>\n",
       "      <td>Obama on whether Trump could be trusted with U...</td>\n",
       "      <td>[obama, whether, trump, could, trust, us, nucl...</td>\n",
       "      <td>10</td>\n",
       "      <td>[1380, 4527, 28622, 296, 978, 290, 11639, 1604...</td>\n",
       "    </tr>\n",
       "  </tbody>\n",
       "</table>\n",
       "</div>"
      ],
      "text/plain": [
       "   handle                                              tweet  \\\n",
       "0       0  In Tampa Florida thank you to all of our outst...   \n",
       "1       0                  Poll vs among white Evangelicals    \n",
       "2       1  Obama on whether Trump could be trusted with U...   \n",
       "\n",
       "                                           tok_tweet  length  \\\n",
       "0  [tampa, florida, thank, outstand, volunt, want...       7   \n",
       "1                  [poll, vs, among, white, evangel]       5   \n",
       "2  [obama, whether, trump, could, trust, us, nucl...      10   \n",
       "\n",
       "                                            word_ids  \n",
       "0  [14387, 3780, 336, 1193508, 668240, 128, 1193509]  \n",
       "1                     [9836, 916, 8634, 811, 469675]  \n",
       "2  [1380, 4527, 28622, 296, 978, 290, 11639, 1604...  "
      ]
     },
     "execution_count": 22,
     "metadata": {},
     "output_type": "execute_result"
    }
   ],
   "source": [
    "training_set.head(3)"
   ]
  },
  {
   "cell_type": "code",
   "execution_count": 23,
   "metadata": {},
   "outputs": [],
   "source": [
    "#split into training and validation\n",
    "\n",
    "from sklearn.model_selection import train_test_split\n",
    "\n",
    "train, test = train_test_split(training_set, test_size=0.2)"
   ]
  },
  {
   "cell_type": "code",
   "execution_count": 24,
   "metadata": {},
   "outputs": [
    {
     "name": "stdout",
     "output_type": "stream",
     "text": [
      "3993\n",
      "999\n"
     ]
    }
   ],
   "source": [
    "print(len(train))\n",
    "print(len(test))"
   ]
  },
  {
   "cell_type": "code",
   "execution_count": 25,
   "metadata": {},
   "outputs": [
    {
     "data": {
      "text/html": [
       "<div>\n",
       "<style scoped>\n",
       "    .dataframe tbody tr th:only-of-type {\n",
       "        vertical-align: middle;\n",
       "    }\n",
       "\n",
       "    .dataframe tbody tr th {\n",
       "        vertical-align: top;\n",
       "    }\n",
       "\n",
       "    .dataframe thead th {\n",
       "        text-align: right;\n",
       "    }\n",
       "</style>\n",
       "<table border=\"1\" class=\"dataframe\">\n",
       "  <thead>\n",
       "    <tr style=\"text-align: right;\">\n",
       "      <th></th>\n",
       "      <th>handle</th>\n",
       "      <th>tweet</th>\n",
       "      <th>tok_tweet</th>\n",
       "      <th>length</th>\n",
       "      <th>word_ids</th>\n",
       "    </tr>\n",
       "  </thead>\n",
       "  <tbody>\n",
       "    <tr>\n",
       "      <th>3562</th>\n",
       "      <td>1</td>\n",
       "      <td>We have some questions about this letter from ...</td>\n",
       "      <td>[question, letter, donald, trump, doctor]</td>\n",
       "      <td>5</td>\n",
       "      <td>[1410, 4735, 14348, 28622, 3056]</td>\n",
       "    </tr>\n",
       "    <tr>\n",
       "      <th>2220</th>\n",
       "      <td>0</td>\n",
       "      <td>Nevada we are on our way VoteTrumpNV TrumpCauc...</td>\n",
       "      <td>[nevada, way, votetrumpnv, trumpcaucus, locat]</td>\n",
       "      <td>5</td>\n",
       "      <td>[28283, 270, 1194098, 1194735, 563445]</td>\n",
       "    </tr>\n",
       "    <tr>\n",
       "      <th>2575</th>\n",
       "      <td>0</td>\n",
       "      <td>Thank you South Bend Indiana Everyone get out ...</td>\n",
       "      <td>[thank, south, bend, indiana, everyon, get, am...</td>\n",
       "      <td>10</td>\n",
       "      <td>[336, 2347, 14817, 11649, 125834, 86, 12797, 1...</td>\n",
       "    </tr>\n",
       "  </tbody>\n",
       "</table>\n",
       "</div>"
      ],
      "text/plain": [
       "      handle                                              tweet  \\\n",
       "3562       1  We have some questions about this letter from ...   \n",
       "2220       0  Nevada we are on our way VoteTrumpNV TrumpCauc...   \n",
       "2575       0  Thank you South Bend Indiana Everyone get out ...   \n",
       "\n",
       "                                              tok_tweet  length  \\\n",
       "3562          [question, letter, donald, trump, doctor]       5   \n",
       "2220     [nevada, way, votetrumpnv, trumpcaucus, locat]       5   \n",
       "2575  [thank, south, bend, indiana, everyon, get, am...      10   \n",
       "\n",
       "                                               word_ids  \n",
       "3562                   [1410, 4735, 14348, 28622, 3056]  \n",
       "2220             [28283, 270, 1194098, 1194735, 563445]  \n",
       "2575  [336, 2347, 14817, 11649, 125834, 86, 12797, 1...  "
      ]
     },
     "execution_count": 25,
     "metadata": {},
     "output_type": "execute_result"
    }
   ],
   "source": [
    "train.head(3)"
   ]
  },
  {
   "cell_type": "code",
   "execution_count": 27,
   "metadata": {},
   "outputs": [
    {
     "data": {
      "text/html": [
       "<div>\n",
       "<style scoped>\n",
       "    .dataframe tbody tr th:only-of-type {\n",
       "        vertical-align: middle;\n",
       "    }\n",
       "\n",
       "    .dataframe tbody tr th {\n",
       "        vertical-align: top;\n",
       "    }\n",
       "\n",
       "    .dataframe thead th {\n",
       "        text-align: right;\n",
       "    }\n",
       "</style>\n",
       "<table border=\"1\" class=\"dataframe\">\n",
       "  <thead>\n",
       "    <tr style=\"text-align: right;\">\n",
       "      <th></th>\n",
       "      <th>handle</th>\n",
       "      <th>tweet</th>\n",
       "      <th>tok_tweet</th>\n",
       "      <th>length</th>\n",
       "      <th>word_ids</th>\n",
       "    </tr>\n",
       "  </thead>\n",
       "  <tbody>\n",
       "    <tr>\n",
       "      <th>1130</th>\n",
       "      <td>0</td>\n",
       "      <td>WSJNBC Poll Donald Trump Widens His Lead in Re...</td>\n",
       "      <td>[wsjnbc, poll, donald, trump, widen, lead, rep...</td>\n",
       "      <td>10</td>\n",
       "      <td>[1194189, 9836, 14348, 28622, 108369, 1899, 16...</td>\n",
       "    </tr>\n",
       "    <tr>\n",
       "      <th>1879</th>\n",
       "      <td>1</td>\n",
       "      <td>Secretary Clinton has won the Democratic nomin...</td>\n",
       "      <td>[secretari, clinton, democrat, nomin, process,...</td>\n",
       "      <td>7</td>\n",
       "      <td>[596329, 13119, 34127, 523024, 7011, 1121792, ...</td>\n",
       "    </tr>\n",
       "    <tr>\n",
       "      <th>4825</th>\n",
       "      <td>0</td>\n",
       "      <td>Chris thank you so much for your wonderful en...</td>\n",
       "      <td>[chris, thank, much, wonder, endors, let]</td>\n",
       "      <td>6</td>\n",
       "      <td>[1668, 336, 201, 1112, 115503, 264]</td>\n",
       "    </tr>\n",
       "  </tbody>\n",
       "</table>\n",
       "</div>"
      ],
      "text/plain": [
       "      handle                                              tweet  \\\n",
       "1130       0  WSJNBC Poll Donald Trump Widens His Lead in Re...   \n",
       "1879       1  Secretary Clinton has won the Democratic nomin...   \n",
       "4825       0   Chris thank you so much for your wonderful en...   \n",
       "\n",
       "                                              tok_tweet  length  \\\n",
       "1130  [wsjnbc, poll, donald, trump, widen, lead, rep...      10   \n",
       "1879  [secretari, clinton, democrat, nomin, process,...       7   \n",
       "4825          [chris, thank, much, wonder, endors, let]       6   \n",
       "\n",
       "                                               word_ids  \n",
       "1130  [1194189, 9836, 14348, 28622, 108369, 1899, 16...  \n",
       "1879  [596329, 13119, 34127, 523024, 7011, 1121792, ...  \n",
       "4825                [1668, 336, 201, 1112, 115503, 264]  "
      ]
     },
     "execution_count": 27,
     "metadata": {},
     "output_type": "execute_result"
    }
   ],
   "source": [
    "test.head(3)"
   ]
  },
  {
   "cell_type": "markdown",
   "metadata": {},
   "source": [
    "We’re going to build an RNN that accepts batches of data from the “word_ids” column and predicts the “handle”. The first step is to construct a simple iterator that returns batches of inputs along with their targets, and the length of each input:"
   ]
  },
  {
   "cell_type": "code",
   "execution_count": 28,
   "metadata": {},
   "outputs": [],
   "source": [
    "class SimpleDataIterator():\n",
    "    def __init__(self, df):\n",
    "        self.df = df\n",
    "        self.size = len(self.df)\n",
    "        self.epochs = 0\n",
    "        self.shuffle()\n",
    "\n",
    "    def shuffle(self):\n",
    "        self.df = self.df.sample(frac=1).reset_index(drop=True)\n",
    "        self.cursor = 0\n",
    "\n",
    "    def next_batch(self, n):\n",
    "        if self.cursor+n-1 > self.size:\n",
    "            self.epochs += 1\n",
    "            self.shuffle()\n",
    "        res = self.df.ix[self.cursor:self.cursor+n-1]\n",
    "        self.cursor += n\n",
    "        return res['word_ids'], res['handle'], res['length']"
   ]
  },
  {
   "cell_type": "code",
   "execution_count": 29,
   "metadata": {},
   "outputs": [
    {
     "name": "stdout",
     "output_type": "stream",
     "text": [
      "Input sequences\n",
      " 0          [1151260, 1214, 3780, 287, 234, 336, 29892]\n",
      "1    [410, 434, 12341, 16190, 523024, 101980, 185, ...\n",
      "2    [336, 62960, 2610, 44446, 2705, 25732, 1112, 3...\n",
      "Name: word_ids, dtype: object\n",
      "\n",
      "Target values\n",
      " 0    0\n",
      "1    1\n",
      "2    0\n",
      "Name: handle, dtype: int64\n",
      "\n",
      "Sequence lengths\n",
      " 0     7\n",
      "1    14\n",
      "2     8\n",
      "Name: length, dtype: int64\n"
     ]
    },
    {
     "name": "stderr",
     "output_type": "stream",
     "text": [
      "/projects/nanopore-working/rojin/nanoraw-signalAlign-nanopolish/anaconda2/envs/py36/lib/python3.6/site-packages/ipykernel_launcher.py:16: DeprecationWarning: \n",
      ".ix is deprecated. Please use\n",
      ".loc for label based indexing or\n",
      ".iloc for positional indexing\n",
      "\n",
      "See the documentation here:\n",
      "http://pandas.pydata.org/pandas-docs/stable/indexing.html#ix-indexer-is-deprecated\n",
      "  app.launch_new_instance()\n"
     ]
    }
   ],
   "source": [
    "data = SimpleDataIterator(training_set)\n",
    "d = data.next_batch(3)\n",
    "print('Input sequences\\n', d[0], end='\\n\\n')\n",
    "print('Target values\\n', d[1], end='\\n\\n')\n",
    "print('Sequence lengths\\n', d[2])"
   ]
  },
  {
   "cell_type": "code",
   "execution_count": 30,
   "metadata": {},
   "outputs": [],
   "source": [
    "#padding\n",
    "class PaddedDataIterator(SimpleDataIterator):\n",
    "    def next_batch(self, n):\n",
    "        if self.cursor+n > self.size:\n",
    "            self.epochs += 1\n",
    "            self.shuffle()\n",
    "        res = self.df.ix[self.cursor:self.cursor+n-1]\n",
    "        self.cursor += n\n",
    "\n",
    "        # Pad sequences with 0s so they are all the same length\n",
    "        maxlen = max(res['length'])\n",
    "        x = np.zeros([n, maxlen], dtype=np.int32)\n",
    "        for i, x_i in enumerate(x):\n",
    "            x_i[:res['length'].values[i]] = res['word_ids'].values[i]\n",
    "\n",
    "        return x, res['handle'], res['length']"
   ]
  },
  {
   "cell_type": "code",
   "execution_count": 31,
   "metadata": {},
   "outputs": [
    {
     "name": "stdout",
     "output_type": "stream",
     "text": [
      "Input sequences\n",
      " [[   182   1937   2183      0      0      0      0      0      0      0\n",
      "       0      0      0      0]\n",
      " [  1368    110 213128   2412 224411  12750    409 790821  42569  11639\n",
      "    7872    201  62960  91909]\n",
      " [  3132  39468  49653  66349    620   7011   1590  28622      0      0\n",
      "       0      0      0      0]]\n",
      "\n"
     ]
    },
    {
     "name": "stderr",
     "output_type": "stream",
     "text": [
      "/projects/nanopore-working/rojin/nanoraw-signalAlign-nanopolish/anaconda2/envs/py36/lib/python3.6/site-packages/ipykernel_launcher.py:7: DeprecationWarning: \n",
      ".ix is deprecated. Please use\n",
      ".loc for label based indexing or\n",
      ".iloc for positional indexing\n",
      "\n",
      "See the documentation here:\n",
      "http://pandas.pydata.org/pandas-docs/stable/indexing.html#ix-indexer-is-deprecated\n",
      "  import sys\n"
     ]
    }
   ],
   "source": [
    "data = PaddedDataIterator(training_set)\n",
    "d = data.next_batch(3)\n",
    "print('Input sequences\\n', d[0], end='\\n\\n')"
   ]
  },
  {
   "cell_type": "code",
   "execution_count": 32,
   "metadata": {},
   "outputs": [],
   "source": [
    "def reset_graph():\n",
    "    if 'sess' in globals() and sess:\n",
    "        sess.close()\n",
    "    tf.reset_default_graph()\n",
    "\n",
    "def build_graph(\n",
    "    vocab_size = len(word_indexes),\n",
    "    state_size = 64,\n",
    "    batch_size = 256,\n",
    "    num_classes = 2):\n",
    "\n",
    "    reset_graph()\n",
    "\n",
    "    # Placeholders\n",
    "    x = tf.placeholder(tf.int32, [batch_size, None]) # [batch_size, num_steps]\n",
    "    seqlen = tf.placeholder(tf.int32, [batch_size])\n",
    "    y = tf.placeholder(tf.int32, [batch_size])\n",
    "    keep_prob = tf.placeholder_with_default(1.0, [])\n",
    "\n",
    "    # Embedding layer\n",
    "    embeddings = tf.get_variable('embedding_matrix', [vocab_size, state_size])\n",
    "    rnn_inputs = tf.nn.embedding_lookup(embeddings, x)\n",
    "\n",
    "    # RNN\n",
    "    cell = tf.nn.rnn_cell.GRUCell(state_size)\n",
    "    init_state = tf.get_variable('init_state', [1, state_size],\n",
    "                                 initializer=tf.constant_initializer(0.0))\n",
    "    init_state = tf.tile(init_state, [batch_size, 1])\n",
    "    rnn_outputs, final_state = tf.nn.dynamic_rnn(cell, rnn_inputs, sequence_length=seqlen,\n",
    "                                                 initial_state=init_state)\n",
    "\n",
    "    # Add dropout, as the model otherwise quickly overfits\n",
    "    rnn_outputs = tf.nn.dropout(rnn_outputs, keep_prob)\n",
    "\n",
    "    \"\"\"\n",
    "    Obtain the last relevant output. The best approach in the future will be to use:\n",
    "\n",
    "        last_rnn_output = tf.gather_nd(rnn_outputs, tf.pack([tf.range(batch_size), seqlen-1], axis=1))\n",
    "\n",
    "    which is the Tensorflow equivalent of numpy's rnn_outputs[range(30), seqlen-1, :], but the\n",
    "    gradient for this op has not been implemented as of this writing.\n",
    "\n",
    "    The below solution works, but throws a UserWarning re: the gradient.\n",
    "    \"\"\"\n",
    "    idx = tf.range(batch_size)*tf.shape(rnn_outputs)[1] + (seqlen - 1)\n",
    "    last_rnn_output = tf.gather(tf.reshape(rnn_outputs, [-1, state_size]), idx)\n",
    "\n",
    "    # Softmax layer\n",
    "    with tf.variable_scope('softmax'):\n",
    "        W = tf.get_variable('W', [state_size, num_classes])\n",
    "        b = tf.get_variable('b', [num_classes], initializer=tf.constant_initializer(0.0))\n",
    "    logits = tf.matmul(last_rnn_output, W) + b\n",
    "    preds = tf.nn.softmax(logits)\n",
    "    correct = tf.equal(tf.cast(tf.argmax(preds,1),tf.int32), y)\n",
    "    accuracy = tf.reduce_mean(tf.cast(correct, tf.float32))\n",
    "\n",
    "    loss = tf.reduce_mean(tf.nn.sparse_softmax_cross_entropy_with_logits(logits=logits, labels=y))\n",
    "    train_step = tf.train.AdamOptimizer(1e-4).minimize(loss)\n",
    "\n",
    "    return {\n",
    "        'x': x,\n",
    "        'seqlen': seqlen,\n",
    "        'y': y,\n",
    "        'dropout': keep_prob,\n",
    "        'loss': loss,\n",
    "        'ts': train_step,\n",
    "        'preds': preds,\n",
    "        'accuracy': accuracy\n",
    "    }"
   ]
  },
  {
   "cell_type": "code",
   "execution_count": 33,
   "metadata": {},
   "outputs": [
    {
     "name": "stderr",
     "output_type": "stream",
     "text": [
      "/projects/nanopore-working/rojin/nanoraw-signalAlign-nanopolish/anaconda2/envs/py36/lib/python3.6/site-packages/tensorflow/python/ops/gradients_impl.py:100: UserWarning: Converting sparse IndexedSlices to a dense Tensor of unknown shape. This may consume a large amount of memory.\n",
      "  \"Converting sparse IndexedSlices to a dense Tensor of unknown shape. \"\n"
     ]
    }
   ],
   "source": [
    "g = build_graph()"
   ]
  },
  {
   "cell_type": "code",
   "execution_count": 34,
   "metadata": {},
   "outputs": [],
   "source": [
    "def train_graph(graph, batch_size = 256, num_epochs = 10, iterator = PaddedDataIterator):\n",
    "    with tf.Session() as sess:\n",
    "        sess.run(tf.initialize_all_variables())\n",
    "        tr = iterator(train)\n",
    "        te = iterator(test)\n",
    "\n",
    "        step, accuracy = 0, 0\n",
    "        tr_losses, te_losses = [], []\n",
    "        current_epoch = 0\n",
    "        while current_epoch < num_epochs:\n",
    "            step += 1\n",
    "            batch = tr.next_batch(batch_size)\n",
    "            feed = {g['x']: batch[0], g['y']: batch[1], g['seqlen']: batch[2], g['dropout']: 0.6}\n",
    "            accuracy_, _ = sess.run([g['accuracy'], g['ts']], feed_dict=feed)\n",
    "            accuracy += accuracy_\n",
    "\n",
    "            if tr.epochs > current_epoch:\n",
    "                current_epoch += 1\n",
    "                tr_losses.append(accuracy / step)\n",
    "                step, accuracy = 0, 0\n",
    "\n",
    "                #eval test set\n",
    "                te_epoch = te.epochs\n",
    "                while te.epochs == te_epoch:\n",
    "                    step += 1\n",
    "                    batch = te.next_batch(batch_size)\n",
    "                    feed = {g['x']: batch[0], g['y']: batch[1], g['seqlen']: batch[2]}\n",
    "                    accuracy_ = sess.run([g['accuracy']], feed_dict=feed)[0]\n",
    "                    accuracy += accuracy_\n",
    "\n",
    "                te_losses.append(accuracy / step)\n",
    "                step, accuracy = 0,0\n",
    "                print(\"Accuracy after epoch\", current_epoch, \" - tr:\", tr_losses[-1], \"- te:\", te_losses[-1])\n",
    "\n",
    "    return tr_losses, te_losses"
   ]
  },
  {
   "cell_type": "code",
   "execution_count": 35,
   "metadata": {},
   "outputs": [
    {
     "name": "stdout",
     "output_type": "stream",
     "text": [
      "WARNING:tensorflow:From /projects/nanopore-working/rojin/nanoraw-signalAlign-nanopolish/anaconda2/envs/py36/lib/python3.6/site-packages/tensorflow/python/util/tf_should_use.py:118: initialize_all_variables (from tensorflow.python.ops.variables) is deprecated and will be removed after 2017-03-02.\n",
      "Instructions for updating:\n",
      "Use `tf.global_variables_initializer` instead.\n"
     ]
    },
    {
     "name": "stderr",
     "output_type": "stream",
     "text": [
      "/projects/nanopore-working/rojin/nanoraw-signalAlign-nanopolish/anaconda2/envs/py36/lib/python3.6/site-packages/ipykernel_launcher.py:7: DeprecationWarning: \n",
      ".ix is deprecated. Please use\n",
      ".loc for label based indexing or\n",
      ".iloc for positional indexing\n",
      "\n",
      "See the documentation here:\n",
      "http://pandas.pydata.org/pandas-docs/stable/indexing.html#ix-indexer-is-deprecated\n",
      "  import sys\n"
     ]
    },
    {
     "name": "stdout",
     "output_type": "stream",
     "text": [
      "Accuracy after epoch 1  - tr: 0.53955078125 - te: 0.5625\n",
      "Accuracy after epoch 2  - tr: 0.6174479166666667 - te: 0.6080729166666666\n",
      "Accuracy after epoch 3  - tr: 0.6653645833333334 - te: 0.6419270833333334\n",
      "Accuracy after epoch 4  - tr: 0.7158854166666667 - te: 0.6888020833333334\n",
      "Accuracy after epoch 5  - tr: 0.76484375 - te: 0.7356770833333334\n",
      "Accuracy after epoch 6  - tr: 0.8059895833333334 - te: 0.7799479166666666\n",
      "Accuracy after epoch 7  - tr: 0.8473958333333333 - te: 0.83203125\n",
      "Accuracy after epoch 8  - tr: 0.8763020833333334 - te: 0.8359375\n",
      "Accuracy after epoch 9  - tr: 0.8986979166666667 - te: 0.86328125\n",
      "Accuracy after epoch 10  - tr: 0.91484375 - te: 0.8580729166666666\n"
     ]
    }
   ],
   "source": [
    "tr_losses, te_losses = train_graph(g)"
   ]
  },
  {
   "cell_type": "code",
   "execution_count": null,
   "metadata": {},
   "outputs": [],
   "source": []
  }
 ],
 "metadata": {
  "kernelspec": {
   "display_name": "Python 3",
   "language": "python",
   "name": "python3"
  },
  "language_info": {
   "codemirror_mode": {
    "name": "ipython",
    "version": 3
   },
   "file_extension": ".py",
   "mimetype": "text/x-python",
   "name": "python",
   "nbconvert_exporter": "python",
   "pygments_lexer": "ipython3",
   "version": "3.6.4"
  }
 },
 "nbformat": 4,
 "nbformat_minor": 2
}
