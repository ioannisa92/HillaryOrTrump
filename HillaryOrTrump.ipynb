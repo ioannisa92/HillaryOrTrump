{
 "cells": [
  {
   "cell_type": "code",
   "execution_count": 1,
   "metadata": {},
   "outputs": [
    {
     "ename": "NameError",
     "evalue": "name 'stopwords' is not defined",
     "output_type": "error",
     "traceback": [
      "\u001b[0;31m---------------------------------------------------------------------------\u001b[0m",
      "\u001b[0;31mNameError\u001b[0m                                 Traceback (most recent call last)",
      "\u001b[0;32m<ipython-input-1-b1c386277695>\u001b[0m in \u001b[0;36m<module>\u001b[0;34m()\u001b[0m\n\u001b[1;32m      1\u001b[0m \u001b[0;31m# get stop words\u001b[0m\u001b[0;34m\u001b[0m\u001b[0;34m\u001b[0m\u001b[0m\n\u001b[0;32m----> 2\u001b[0;31m \u001b[0mSTOP_WORDS\u001b[0m \u001b[0;34m=\u001b[0m \u001b[0mstopwords\u001b[0m\u001b[0;34m.\u001b[0m\u001b[0mwords\u001b[0m\u001b[0;34m(\u001b[0m\u001b[0;34m'english'\u001b[0m\u001b[0;34m)\u001b[0m\u001b[0;34m\u001b[0m\u001b[0m\n\u001b[0m\u001b[1;32m      3\u001b[0m \u001b[0;34m\u001b[0m\u001b[0m\n\u001b[1;32m      4\u001b[0m \u001b[0;31m# Helper functions\u001b[0m\u001b[0;34m\u001b[0m\u001b[0;34m\u001b[0m\u001b[0m\n\u001b[1;32m      5\u001b[0m \u001b[0;31m# method to remove apostrophe to make it easier to detect stop words\u001b[0m\u001b[0;34m\u001b[0m\u001b[0;34m\u001b[0m\u001b[0m\n",
      "\u001b[0;31mNameError\u001b[0m: name 'stopwords' is not defined"
     ]
    }
   ],
   "source": []
  },
  {
   "cell_type": "code",
   "execution_count": 2,
   "metadata": {},
   "outputs": [],
   "source": [
    "# import libraries\n",
    "import pandas as pd\n",
    "import matplotlib.pyplot as plt\n",
    "import numpy as np\n",
    "import sklearn\n",
    "import string\n",
    "\n",
    "# import some modules\n",
    "from numpy import linalg as LA\n",
    "from sklearn.feature_extraction.text import CountVectorizer\n",
    "from sklearn.feature_extraction.text import TfidfTransformer\n",
    "from sklearn.metrics import accuracy_score\n",
    "from nltk.corpus import stopwords\n",
    "from nltk.corpus import words\n",
    "from __future__ import division\n",
    "\n"
   ]
  },
  {
   "cell_type": "code",
   "execution_count": null,
   "metadata": {},
   "outputs": [],
   "source": [
    "# get stop words\n",
    "STOP_WORDS = stopwords.words('english')\n",
    "\n",
    "# Helper functions\n",
    "# method to remove apostrophe to make it easier to detect stop words\n",
    "def remove_apostrophe(inp):\n",
    "    inp = inp.replace(\"'\", \" \")\n",
    "    return inp\n",
    "\n",
    "# method to remove stop words or non-words or both\n",
    "def clean_text(inp):\n",
    "    new_inp=inp\n",
    "    clean_inp=[]\n",
    "    for char in new_inp.split():\n",
    "        if char.lower() not in STOP_WORDS:\n",
    "            clean_inp.append(char) #cleaning stop words only\n",
    "    return ' '.join(clean_inp)\n",
    "\n",
    "# method to clean text\n",
    "def clean_matrix(df):\n",
    "    #applying text clean on each sms in the matrix\n",
    "    df['sms'] = df['sms'].apply(remove_apostrophe)\n",
    "    df['sms'] = df['sms'].apply(clean_text)\n",
    "    return df\n",
    "\n",
    "# method to transform cleaned text to normalized feature vector\n",
    "def transform_train_and_test_matrix(train_dataset_path, test_dataset_path):\n",
    "    \n",
    "    # load the dataframe\n",
    "    df_train = pd.read_csv(train_dataset_path,encoding='latin1')\n",
    "    df_test = pd.read_csv(test_dataset_path,encoding='latin1')\n",
    "    \n",
    "    # clean the data\n",
    "    clean_dataframe_train = clean_matrix(df_train)\n",
    "    clean_dataframe_test = clean_matrix(df_test)\n",
    "    \n",
    "    # transform labels into a binary vector\n",
    "    labels_train = [1 if(df_train['label'].iloc[i]) == 'ham' else 0 for i in range(len(df_train))]\n",
    "    labels_test = [1 if(df_test['label'].iloc[i]) == 'ham' else 0 for i in range(len(df_test))]\n",
    "    \n",
    "    #calling CountVectorizer\n",
    "    transformer = CountVectorizer(decode_error='ignore')\n",
    "    messages_transform_train=transformer.fit_transform(clean_dataframe_train['sms'])\n",
    "    messages_transform_test=transformer.transform(clean_dataframe_test['sms'])\n",
    "    #print(transformer.vocabulary_)\n",
    "    #print((messages_transform.toarray()))\n",
    "    \n",
    "    #calling tf_idf\n",
    "    tf_idf_trans = TfidfTransformer(norm='l2', smooth_idf=False)\n",
    "    messages_tfidf_train = tf_idf_trans.fit_transform(messages_transform_train)\n",
    "    messages_tfidf_test = tf_idf_trans.transform(messages_transform_test)\n",
    "    #print((messages_tfidf.toarray()))\n",
    "    \n",
    "    return np.array(messages_tfidf_train.toarray()), np.array(np.reshape(labels_train,(len(labels_train),1))), np.array(messages_tfidf_test.toarray()), np.array(np.reshape(labels_test,(len(labels_test),1))"
   ]
  }
 ],
 "metadata": {
  "kernelspec": {
   "display_name": "Python 2",
   "language": "python",
   "name": "python2"
  },
  "language_info": {
   "codemirror_mode": {
    "name": "ipython",
    "version": 2
   },
   "file_extension": ".py",
   "mimetype": "text/x-python",
   "name": "python",
   "nbconvert_exporter": "python",
   "pygments_lexer": "ipython2",
   "version": "2.7.14"
  }
 },
 "nbformat": 4,
 "nbformat_minor": 2
}
